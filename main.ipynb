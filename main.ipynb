{
 "cells": [
  {
   "cell_type": "code",
   "execution_count": 1,
   "metadata": {},
   "outputs": [
    {
     "name": "stderr",
     "output_type": "stream",
     "text": [
      "Using TensorFlow backend.\n"
     ]
    }
   ],
   "source": [
    "from tensorflow.keras.layers import Flatten, Dense, Concatenate, Dot, Lambda, Input\n",
    "from tensorflow.keras.models import Sequential, Model,load_model\n",
    "from tensorflow.keras.utils import normalize,plot_model\n",
    "from tensorflow.keras import backend as K\n",
    "from keras.datasets import mnist\n",
    "from tqdm import tqdm\n",
    "import numpy as np"
   ]
  },
  {
   "cell_type": "code",
   "execution_count": 2,
   "metadata": {},
   "outputs": [
    {
     "name": "stdout",
     "output_type": "stream",
     "text": [
      "X_train size: (60000, 28, 28)\n",
      "y_train size: (60000,)\n",
      "X_test size: (10000, 28, 28)\n",
      "y_test size: (10000,)\n"
     ]
    }
   ],
   "source": [
    "# load data\n",
    "(X_train,y_train),(X_test,y_test) = mnist.load_data()\n",
    "\n",
    "# normalize data\n",
    "X_train = normalize(X_train,axis=-1)\n",
    "X_test = normalize(X_test,axis=-1)\n",
    "\n",
    "# print size of data\n",
    "print(\"X_train size:\",X_train.shape)\n",
    "print(\"y_train size:\",y_train.shape)\n",
    "print(\"X_test size:\",X_test.shape)\n",
    "print(\"y_test size:\",y_test.shape)"
   ]
  },
  {
   "cell_type": "code",
   "execution_count": 3,
   "metadata": {},
   "outputs": [
    {
     "name": "stderr",
     "output_type": "stream",
     "text": [
      "10it [00:01,  5.47it/s]\n",
      "10it [00:00, 39.35it/s]\n"
     ]
    }
   ],
   "source": [
    "# make pairs between data, for each image will take an pair positive and negative\n",
    "def make_pairs(x,y):\n",
    "    num_classes = np.max(y) + 1\n",
    "    indices = [np.where(y == i)[0] for i in range(num_classes)]\n",
    "    x_pairs = []\n",
    "    labels = []\n",
    "    \n",
    "    for dx,i in tqdm(zip(indices,range(len(indices)))):\n",
    "        for dy,j in zip(dx,range(len(dx))):\n",
    "            # pair between positive and positive (2 samples has same class)\n",
    "            x_pairs += [[x[dy],x[dx[j-1]]]]\n",
    "            labels.append(1)\n",
    "\n",
    "            # pair between positive and negative (2 samples has different class)\n",
    "            while True:\n",
    "                not_i = np.random.randint(num_classes)\n",
    "                if not_i != i: \n",
    "                    break\n",
    "            x_pairs += [[x[dy],x[np.random.choice(indices[not_i])]]]\n",
    "            labels.append(0)\n",
    "    \n",
    "    return np.array(x_pairs),np.array(labels)\n",
    "\n",
    "tr_pairs,tr_labels = make_pairs(X_train,y_train)\n",
    "te_pairs,te_labels = make_pairs(X_test,y_test)\n",
    "\n",
    "del X_train,y_train,X_test,y_test"
   ]
  },
  {
   "cell_type": "code",
   "execution_count": 4,
   "metadata": {},
   "outputs": [
    {
     "name": "stdout",
     "output_type": "stream",
     "text": [
      "Model: \"model\"\n",
      "__________________________________________________________________________________________________\n",
      "Layer (type)                    Output Shape         Param #     Connected to                     \n",
      "==================================================================================================\n",
      "flatten_input (InputLayer)      [(None, 28, 28)]     0                                            \n",
      "__________________________________________________________________________________________________\n",
      "flatten_1_input (InputLayer)    [(None, 28, 28)]     0                                            \n",
      "__________________________________________________________________________________________________\n",
      "flatten (Flatten)               (None, 784)          0           flatten_input[0][0]              \n",
      "__________________________________________________________________________________________________\n",
      "flatten_1 (Flatten)             (None, 784)          0           flatten_1_input[0][0]            \n",
      "__________________________________________________________________________________________________\n",
      "dense (Dense)                   (None, 128)          100480      flatten[0][0]                    \n",
      "__________________________________________________________________________________________________\n",
      "dense_1 (Dense)                 (None, 128)          100480      flatten_1[0][0]                  \n",
      "__________________________________________________________________________________________________\n",
      "concatenate (Concatenate)       (None, 256)          0           dense[0][0]                      \n",
      "                                                                 dense_1[0][0]                    \n",
      "__________________________________________________________________________________________________\n",
      "dense_2 (Dense)                 (None, 1)            257         concatenate[0][0]                \n",
      "==================================================================================================\n",
      "Total params: 201,217\n",
      "Trainable params: 201,217\n",
      "Non-trainable params: 0\n",
      "__________________________________________________________________________________________________\n"
     ]
    },
    {
     "data": {
      "image/png": "[encoded data removed]",
      "text/plain": [
       "<IPython.core.display.Image object>"
      ]
     },
     "execution_count": 4,
     "metadata": {},
     "output_type": "execute_result"
    }
   ],
   "source": [
    "# Weights not shared\n",
    "seq1 = Sequential()\n",
    "seq1.add(Flatten(input_shape=(28,28)))\n",
    "seq1.add(Dense(128, activation='relu'))\n",
    "\n",
    "seq2 = Sequential()\n",
    "seq2.add(Flatten(input_shape=(28,28)))\n",
    "seq2.add(Dense(128, activation='relu'))\n",
    "\n",
    "merge_layer = Concatenate()([seq1.output, seq2.output])\n",
    "dense_layer = Dense(1, activation=\"sigmoid\")(merge_layer)\n",
    "model = Model(inputs=[seq1.input, seq2.input], outputs=dense_layer)\n",
    "\n",
    "model.compile(loss = \"binary_crossentropy\", optimizer=\"adam\", metrics=[\"accuracy\"])\n",
    "model.summary()\n",
    "plot_model(model)"
   ]
  },
  {
   "cell_type": "code",
   "execution_count": 5,
   "metadata": {},
   "outputs": [
    {
     "name": "stdout",
     "output_type": "stream",
     "text": [
      "Epoch 1/10\n",
      "3750/3750 [==============================] - 51s 13ms/step - loss: 0.6942 - accuracy: 0.5041\n",
      "Epoch 2/10\n",
      "3750/3750 [==============================] - 46s 12ms/step - loss: 0.6931 - accuracy: 0.5074\n",
      "Epoch 3/10\n",
      "3750/3750 [==============================] - 44s 12ms/step - loss: 0.6930 - accuracy: 0.5068\n",
      "Epoch 4/10\n",
      "3750/3750 [==============================] - 45s 12ms/step - loss: 0.6929 - accuracy: 0.5086\n",
      "Epoch 5/10\n",
      "3750/3750 [==============================] - 44s 12ms/step - loss: 0.6929 - accuracy: 0.5092\n",
      "Epoch 6/10\n",
      "3750/3750 [==============================] - 44s 12ms/step - loss: 0.6927 - accuracy: 0.5116\n",
      "Epoch 7/10\n",
      "3750/3750 [==============================] - 46s 12ms/step - loss: 0.6926 - accuracy: 0.5129\n",
      "Epoch 8/10\n",
      "3750/3750 [==============================] - 43s 12ms/step - loss: 0.6924 - accuracy: 0.5131\n",
      "Epoch 9/10\n",
      "3750/3750 [==============================] - 42s 11ms/step - loss: 0.6923 - accuracy: 0.5158\n",
      "Epoch 10/10\n",
      "3750/3750 [==============================] - 42s 11ms/step - loss: 0.6921 - accuracy: 0.5164\n"
     ]
    },
    {
     "data": {
      "text/plain": [
       "<tensorflow.python.keras.callbacks.History at 0x7fb1f9204690>"
      ]
     },
     "execution_count": 5,
     "metadata": {},
     "output_type": "execute_result"
    }
   ],
   "source": [
    "model.fit([tr_pairs[:,0],tr_pairs[:,1]],tr_labels[:],batch_size=32,epochs= 10)"
   ]
  },
  {
   "cell_type": "code",
   "execution_count": 6,
   "metadata": {},
   "outputs": [],
   "source": [
    "# Weights shared\n",
    "input = Input((28,28))\n",
    "x = Flatten()(input)\n",
    "x = Dense(128, activation='relu')(x)\n",
    "dense = Model(input, x)\n",
    "\n",
    "input1 = Input((28,28))\n",
    "dense1 = dense(input1)\n",
    "\n",
    "input2 = Input((28,28))\n",
    "dense2 = dense(input2)\n",
    "\n",
    "merge_layer = Concatenate()([dense1,dense2])\n",
    "dense_layer = Dense(1, activation=\"sigmoid\")(merge_layer)\n",
    "model = Model(inputs=[input1,input2], outputs=dense_layer)"
   ]
  },
  {
   "cell_type": "code",
   "execution_count": 7,
   "metadata": {},
   "outputs": [
    {
     "name": "stdout",
     "output_type": "stream",
     "text": [
      "Model: \"model_2\"\n",
      "__________________________________________________________________________________________________\n",
      "Layer (type)                    Output Shape         Param #     Connected to                     \n",
      "==================================================================================================\n",
      "input_2 (InputLayer)            [(None, 28, 28)]     0                                            \n",
      "__________________________________________________________________________________________________\n",
      "input_3 (InputLayer)            [(None, 28, 28)]     0                                            \n",
      "__________________________________________________________________________________________________\n",
      "model_1 (Model)                 (None, 128)          100480      input_2[0][0]                    \n",
      "                                                                 input_3[0][0]                    \n",
      "__________________________________________________________________________________________________\n",
      "concatenate_1 (Concatenate)     (None, 256)          0           model_1[1][0]                    \n",
      "                                                                 model_1[2][0]                    \n",
      "__________________________________________________________________________________________________\n",
      "dense_4 (Dense)                 (None, 1)            257         concatenate_1[0][0]              \n",
      "==================================================================================================\n",
      "Total params: 100,737\n",
      "Trainable params: 100,737\n",
      "Non-trainable params: 0\n",
      "__________________________________________________________________________________________________\n"
     ]
    },
    {
     "data": {
      "image/png": "[encoded data removed]",
      "text/plain": [
       "<IPython.core.display.Image object>"
      ]
     },
     "execution_count": 7,
     "metadata": {},
     "output_type": "execute_result"
    }
   ],
   "source": [
    "model.compile(loss = \"binary_crossentropy\", optimizer=\"adam\", metrics=[\"accuracy\"])\n",
    "model.summary()\n",
    "plot_model(model)"
   ]
  },
  {
   "cell_type": "code",
   "execution_count": 8,
   "metadata": {},
   "outputs": [
    {
     "name": "stdout",
     "output_type": "stream",
     "text": [
      "Epoch 1/10\n",
      "3750/3750 [==============================] - 48s 13ms/step - loss: 0.6938 - accuracy: 0.5013\n",
      "Epoch 2/10\n",
      "3750/3750 [==============================] - 42s 11ms/step - loss: 0.6930 - accuracy: 0.5056\n",
      "Epoch 3/10\n",
      "3750/3750 [==============================] - 41s 11ms/step - loss: 0.6929 - accuracy: 0.5037\n",
      "Epoch 4/10\n",
      "3750/3750 [==============================] - 43s 11ms/step - loss: 0.6928 - accuracy: 0.5051\n",
      "Epoch 5/10\n",
      "3750/3750 [==============================] - 45s 12ms/step - loss: 0.6928 - accuracy: 0.5073\n",
      "Epoch 6/10\n",
      "3750/3750 [==============================] - 43s 12ms/step - loss: 0.6927 - accuracy: 0.5139\n",
      "Epoch 7/10\n",
      "3750/3750 [==============================] - 34s 9ms/step - loss: 0.6926 - accuracy: 0.5121\n",
      "Epoch 8/10\n",
      "3750/3750 [==============================] - 37s 10ms/step - loss: 0.6925 - accuracy: 0.5134\n",
      "Epoch 9/10\n",
      "3750/3750 [==============================] - 40s 11ms/step - loss: 0.6924 - accuracy: 0.5106\n",
      "Epoch 10/10\n",
      "3750/3750 [==============================] - 43s 11ms/step - loss: 0.6923 - accuracy: 0.5115\n"
     ]
    },
    {
     "data": {
      "text/plain": [
       "<tensorflow.python.keras.callbacks.History at 0x7fb1f91f0890>"
      ]
     },
     "execution_count": 8,
     "metadata": {},
     "output_type": "execute_result"
    }
   ],
   "source": [
    "model.fit([tr_pairs[:,0],tr_pairs[:,1]],tr_labels[:],batch_size=32,epochs= 10)"
   ]
  },
  {
   "cell_type": "code",
   "execution_count": 21,
   "metadata": {},
   "outputs": [
    {
     "name": "stdout",
     "output_type": "stream",
     "text": [
      "Model: \"model_8\"\n",
      "_________________________________________________________________\n",
      "Layer (type)                 Output Shape              Param #   \n",
      "=================================================================\n",
      "input_13 (InputLayer)        [(None, 28, 28)]          0         \n",
      "_________________________________________________________________\n",
      "flatten_4 (Flatten)          (None, 784)               0         \n",
      "_________________________________________________________________\n",
      "dense_8 (Dense)              (None, 256)               200960    \n",
      "=================================================================\n",
      "Total params: 200,960\n",
      "Trainable params: 200,960\n",
      "Non-trainable params: 0\n",
      "_________________________________________________________________\n"
     ]
    }
   ],
   "source": [
    "def euclidean_distance(vects):\n",
    "    x, y = vects\n",
    "    sum_square = K.sum(K.square(x - y), axis=1, keepdims=True)\n",
    "    return K.sqrt(K.maximum(sum_square, K.epsilon()))\n",
    "\n",
    "input = Input((28,28))\n",
    "x = Flatten()(input)\n",
    "x = Dense(256, activation='relu')(x)\n",
    "dense = Model(input, x)\n",
    "dense.summary()\n",
    "\n",
    "input1 = Input((28,28))\n",
    "input2 = Input((28,28))\n",
    "\n",
    "dense1 = dense(input1)\n",
    "dense2 = dense(input2)\n",
    "\n",
    "merge_layer = Lambda(euclidean_distance)([dense1,dense2])\n",
    "dense_layer = Dense(1, activation=\"sigmoid\")(merge_layer)\n",
    "model = Model(inputs=[input1, input2], outputs=dense_layer)"
   ]
  },
  {
   "cell_type": "code",
   "execution_count": 24,
   "metadata": {},
   "outputs": [
    {
     "name": "stdout",
     "output_type": "stream",
     "text": [
      "Model: \"model_9\"\n",
      "__________________________________________________________________________________________________\n",
      "Layer (type)                    Output Shape         Param #     Connected to                     \n",
      "==================================================================================================\n",
      "input_14 (InputLayer)           [(None, 28, 28)]     0                                            \n",
      "__________________________________________________________________________________________________\n",
      "input_15 (InputLayer)           [(None, 28, 28)]     0                                            \n",
      "__________________________________________________________________________________________________\n",
      "model_8 (Model)                 (None, 256)          200960      input_14[0][0]                   \n",
      "                                                                 input_15[0][0]                   \n",
      "__________________________________________________________________________________________________\n",
      "lambda_4 (Lambda)               (None, 1)            0           model_8[1][0]                    \n",
      "                                                                 model_8[2][0]                    \n",
      "__________________________________________________________________________________________________\n",
      "dense_9 (Dense)                 (None, 1)            2           lambda_4[0][0]                   \n",
      "==================================================================================================\n",
      "Total params: 200,962\n",
      "Trainable params: 200,962\n",
      "Non-trainable params: 0\n",
      "__________________________________________________________________________________________________\n"
     ]
    },
    {
     "data": {
      "image/png": "[encoded data removed]",
      "text/plain": [
       "<IPython.core.display.Image object>"
      ]
     },
     "execution_count": 24,
     "metadata": {},
     "output_type": "execute_result"
    }
   ],
   "source": [
    "model.compile(loss = \"binary_crossentropy\", optimizer=\"rmsprop\", metrics=[\"accuracy\"])\n",
    "model.summary()\n",
    "plot_model(model)"
   ]
  },
  {
   "cell_type": "code",
   "execution_count": 12,
   "metadata": {},
   "outputs": [
    {
     "name": "stdout",
     "output_type": "stream",
     "text": [
      "Epoch 1/40\n",
      "24/24 [==============================] - 19s 787ms/step - loss: 0.2500 - accuracy: 0.9001\n",
      "Epoch 2/40\n",
      "24/24 [==============================] - 19s 781ms/step - loss: 0.2500 - accuracy: 0.9000\n",
      "Epoch 3/40\n",
      "24/24 [==============================] - 19s 810ms/step - loss: 0.2499 - accuracy: 0.9002\n",
      "Epoch 4/40\n",
      "24/24 [==============================] - 19s 785ms/step - loss: 0.2499 - accuracy: 0.9001\n",
      "Epoch 5/40\n",
      "24/24 [==============================] - 19s 794ms/step - loss: 0.2498 - accuracy: 0.9002\n",
      "Epoch 6/40\n",
      "24/24 [==============================] - 19s 795ms/step - loss: 0.2497 - accuracy: 0.9003\n",
      "Epoch 7/40\n",
      "24/24 [==============================] - 20s 833ms/step - loss: 0.2497 - accuracy: 0.9003\n",
      "Epoch 8/40\n",
      "24/24 [==============================] - 19s 808ms/step - loss: 0.2497 - accuracy: 0.9003\n",
      "Epoch 9/40\n",
      "24/24 [==============================] - 19s 793ms/step - loss: 0.2496 - accuracy: 0.9004\n",
      "Epoch 10/40\n",
      "24/24 [==============================] - 20s 836ms/step - loss: 0.2495 - accuracy: 0.9005\n",
      "Epoch 11/40\n",
      "24/24 [==============================] - 20s 813ms/step - loss: 0.2495 - accuracy: 0.9006\n",
      "Epoch 12/40\n",
      "24/24 [==============================] - 19s 785ms/step - loss: 0.2494 - accuracy: 0.9004\n",
      "Epoch 13/40\n",
      "24/24 [==============================] - 19s 793ms/step - loss: 0.2494 - accuracy: 0.9004\n",
      "Epoch 14/40\n",
      "24/24 [==============================] - 19s 791ms/step - loss: 0.2493 - accuracy: 0.9002\n",
      "Epoch 15/40\n",
      "24/24 [==============================] - 19s 799ms/step - loss: 0.2492 - accuracy: 0.9005\n",
      "Epoch 16/40\n",
      "24/24 [==============================] - 19s 782ms/step - loss: 0.2492 - accuracy: 0.9004\n",
      "Epoch 17/40\n",
      "24/24 [==============================] - 19s 788ms/step - loss: 0.2491 - accuracy: 0.9004\n",
      "Epoch 18/40\n",
      "24/24 [==============================] - 19s 797ms/step - loss: 0.2491 - accuracy: 0.9007\n",
      "Epoch 19/40\n",
      "24/24 [==============================] - 19s 792ms/step - loss: 0.2490 - accuracy: 0.9002\n",
      "Epoch 20/40\n",
      "24/24 [==============================] - 19s 790ms/step - loss: 0.2490 - accuracy: 0.9004\n",
      "Epoch 21/40\n",
      "24/24 [==============================] - 19s 797ms/step - loss: 0.2489 - accuracy: 0.9004\n",
      "Epoch 22/40\n",
      "24/24 [==============================] - 19s 797ms/step - loss: 0.2489 - accuracy: 0.9005\n",
      "Epoch 23/40\n",
      "24/24 [==============================] - 19s 793ms/step - loss: 0.2488 - accuracy: 0.9005\n",
      "Epoch 24/40\n",
      "24/24 [==============================] - 19s 794ms/step - loss: 0.2488 - accuracy: 0.9004\n",
      "Epoch 25/40\n",
      "24/24 [==============================] - 19s 781ms/step - loss: 0.2487 - accuracy: 0.9006\n",
      "Epoch 26/40\n",
      "24/24 [==============================] - 19s 786ms/step - loss: 0.2487 - accuracy: 0.9004\n",
      "Epoch 27/40\n",
      "24/24 [==============================] - 19s 786ms/step - loss: 0.2486 - accuracy: 0.9007\n",
      "Epoch 28/40\n",
      "24/24 [==============================] - 19s 787ms/step - loss: 0.2486 - accuracy: 0.9007\n",
      "Epoch 29/40\n",
      "24/24 [==============================] - 19s 788ms/step - loss: 0.2486 - accuracy: 0.9008\n",
      "Epoch 30/40\n",
      "24/24 [==============================] - 19s 788ms/step - loss: 0.2485 - accuracy: 0.9007\n",
      "Epoch 31/40\n",
      "24/24 [==============================] - 19s 793ms/step - loss: 0.2485 - accuracy: 0.9008\n",
      "Epoch 32/40\n",
      "24/24 [==============================] - 19s 787ms/step - loss: 0.2484 - accuracy: 0.9006\n",
      "Epoch 33/40\n",
      "24/24 [==============================] - 19s 811ms/step - loss: 0.2484 - accuracy: 0.9007\n",
      "Epoch 34/40\n",
      "24/24 [==============================] - 19s 801ms/step - loss: 0.2484 - accuracy: 0.9008\n",
      "Epoch 35/40\n",
      "24/24 [==============================] - 19s 790ms/step - loss: 0.2483 - accuracy: 0.9012\n",
      "Epoch 36/40\n",
      "24/24 [==============================] - 22s 935ms/step - loss: 0.2483 - accuracy: 0.9008\n",
      "Epoch 37/40\n",
      "24/24 [==============================] - 21s 889ms/step - loss: 0.2482 - accuracy: 0.9008\n",
      "Epoch 38/40\n",
      "24/24 [==============================] - 19s 801ms/step - loss: 0.2482 - accuracy: 0.9009\n",
      "Epoch 39/40\n",
      "24/24 [==============================] - 19s 795ms/step - loss: 0.2481 - accuracy: 0.9007\n",
      "Epoch 40/40\n",
      "24/24 [==============================] - 19s 781ms/step - loss: 0.2481 - accuracy: 0.9008\n"
     ]
    }
   ],
   "source": [
    "history=model.fit([tr_pairs[:,0],tr_pairs[:,1]],tr_labels,batch_size=5000,epochs= 40)"
   ]
  },
  {
   "cell_type": "code",
   "execution_count": 9,
   "metadata": {},
   "outputs": [],
   "source": [
    "model.save(\"mnist\")"
   ]
  },
  {
   "cell_type": "code",
   "execution_count": 5,
   "metadata": {},
   "outputs": [],
   "source": [
    "model = load_model(\"mnist\")"
   ]
  },
  {
   "cell_type": "code",
   "execution_count": 10,
   "metadata": {},
   "outputs": [],
   "source": [
    "def prediction(x1,x2):\n",
    "    res = model.predict([x1,x2])\n",
    "    counter = 0\n",
    "    for i in range(0,res.shape[0],2):\n",
    "        if res[i][0] >= 0.5:\n",
    "            counter += 1\n",
    "        if res[i+1][0] < 0.5:\n",
    "            counter += 1\n",
    "    return counter/res.shape[0]*100"
   ]
  },
  {
   "cell_type": "code",
   "execution_count": 13,
   "metadata": {},
   "outputs": [
    {
     "name": "stdout",
     "output_type": "stream",
     "text": [
      "training accuracy: 90.095 %\n",
      "test accuracy: 89.67 %\n"
     ]
    }
   ],
   "source": [
    "train_accuracy = prediction(tr_pairs[:,0],tr_pairs[:,1])\n",
    "test_accuracy = prediction(te_pairs[:,0],te_pairs[:,1])\n",
    "\n",
    "print(\"training accuracy:\",train_accuracy,\"%\")\n",
    "print(\"test accuracy:\",test_accuracy,\"%\")"
   ]
  },
  {
   "cell_type": "code",
   "execution_count": null,
   "metadata": {},
   "outputs": [],
   "source": []
  }
 ],
 "metadata": {
  "kernelspec": {
   "display_name": "Python 3",
   "language": "python",
   "name": "python3"
  },
  "language_info": {
   "codemirror_mode": {
    "name": "ipython",
    "version": 3
   },
   "file_extension": ".py",
   "mimetype": "text/x-python",
   "name": "python",
   "nbconvert_exporter": "python",
   "pygments_lexer": "ipython3",
   "version": "3.7.7"
  }
 },
 "nbformat": 4,
 "nbformat_minor": 2
}
